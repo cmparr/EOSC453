{
 "cells": [
  {
   "cell_type": "markdown",
   "metadata": {},
   "source": [
    "## EOSC 453 - Assignment 1 \n",
    "Claire Parrott, Vanessa Yau"
   ]
  },
  {
   "cell_type": "markdown",
   "metadata": {},
   "source": [
    "Code Algorithim: \n",
    "1. import everything, initialize variables\n",
    "2. find k values from steady state solution given initial flux conditions\n",
    "3. use k values to plot timeseries when adding a source (emissions)"
   ]
  },
  {
   "cell_type": "code",
   "execution_count": 3,
   "metadata": {},
   "outputs": [],
   "source": [
    "import numpy as np\n",
    "import matplotlib.pyplot as plt\n",
    "import scipy.integrate as sci\n",
    "from Functions import * ## this can be used to import all functions stored in a .py file\n",
    "## ToDo: figure out how to use yaml files to "
   ]
  },
  {
   "cell_type": "markdown",
   "metadata": {},
   "source": [
    "Define some constants (global perhaps?). Inital values to be stored in a yaml file//outside the notebook"
   ]
  },
  {
   "cell_type": "code",
   "execution_count": 71,
   "metadata": {},
   "outputs": [
    {
     "name": "stdout",
     "output_type": "stream",
     "text": [
      "Net flux is 0\n"
     ]
    }
   ],
   "source": [
    "F12 = 90\n",
    "F21 = 90\n",
    "F15 = 110\n",
    "F51 = 55\n",
    "F57 = 55\n",
    "F71 = 55 #detritus decomposition\n",
    "F17 = F25 = F27 = F52 = F75 = F72 =  0\n",
    "\n",
    "M0 = [725, 725, 110, 60] # 4 box model M0 values \n",
    "Flux_in = np.array([[0, F21, F51, F71], \\\n",
    "                    [F12, 0, F52, F72], \\\n",
    "                    [F15, F25, 0, F75],\\\n",
    "                    [F17, F27, F57, 0]])\n",
    "Flux_out = np.array([[0, F12, F15, F17], \\\n",
    "                    [F21, 0, F25, F27], \\\n",
    "                    [F51, F52, 0, F57],\\\n",
    "                    [F71, F72, F75, 0]])\n",
    "Mass_Flux_total = sum(Flux_in - Flux_out)\n",
    "if sum(Mass_Flux_total) == 0:\n",
    "    print('Net flux is 0')\n",
    "\n",
    "# The timespan to integrate over\n",
    "t_start = 1500; t_end= 2100; n = 100\n",
    "t = np.linspace(t_start, t_end, n) # some time span\n"
   ]
  },
  {
   "cell_type": "markdown",
   "metadata": {},
   "source": [
    "Thinking if we use the same code to plot everything we can keep it clean by creating functions to do this"
   ]
  },
  {
   "cell_type": "code",
   "execution_count": 86,
   "metadata": {},
   "outputs": [
    {
     "name": "stderr",
     "output_type": "stream",
     "text": [
      "c:\\Users\\clair\\miniconda3\\lib\\site-packages\\scipy\\integrate\\odepack.py:247: ODEintWarning: Excess work done on this call (perhaps wrong Dfun type). Run with full_output = 1 to get quantitative information.\n",
      "  warnings.warn(warning_msg, ODEintWarning)\n"
     ]
    },
    {
     "data": {
      "image/png": "[encoded data removed]",
      "text/plain": [
       "<Figure size 432x288 with 2 Axes>"
      ]
     },
     "metadata": {
      "needs_background": "light"
     },
     "output_type": "display_data"
    }
   ],
   "source": [
    "Mforced = sci.odeint(MassFlux_forced, M0, t, tfirst=True)\n",
    "Msteady = sci.odeint(MassFlux_Steady, M0, t, tfirst=True)\n",
    "[trk, Mrk] = rk4(MassFlux_forced, t_start, t_end, M0, 500) \n",
    "Mrk_real = np.real(Mrk) ## Take the real values only (I doubt there)\n",
    "Mrk_im = np.imag(Mrk) \n",
    "\n",
    "plt.subplot(211)\n",
    "plt.plot(t, Mforced[:, 0], label = 'Forced, odeint')\n",
    "plt.plot(t, Msteady[:, 0], label = 'Steady, odeint')\n",
    "plt.plot(trk, Mrk_real[:, 0], label = 'forced, rk4')\n",
    "plt.title('Top: atm CO2 Mass, Bottom: surf. water CO2 mass')\n",
    "plt.ylabel(\"Mass (Gt)\")\n",
    "\n",
    "plt.subplot(212)\n",
    "plt.plot(t, Mforced[:, 1], label = 'Forced, odeint')\n",
    "plt.plot(t, Msteady[:, 1], label = 'Steady, odeint')\n",
    "plt.plot(trk, Mrk_real[:, 1], label = 'forced, rk4')\n",
    "plt.xlabel(\"Time (years)\")\n",
    "plt.ylabel(\"Mass (Gt)\")\n",
    "\n",
    "plt.xlim([1700, 2100])\n",
    "plt.legend(loc=2)\n",
    "plt.show()"
   ]
  },
  {
   "cell_type": "markdown",
   "metadata": {},
   "source": [
    "Check if the given flux values give a steady state (they do)"
   ]
  },
  {
   "cell_type": "code",
   "execution_count": null,
   "metadata": {},
   "outputs": [
    {
     "data": {
      "text/plain": [
       "<matplotlib.legend.Legend at 0x1f1533b6730>"
      ]
     },
     "execution_count": 134,
     "metadata": {},
     "output_type": "execute_result"
    },
    {
     "data": {
      "image/png": "[encoded data removed]",
      "text/plain": [
       "<Figure size 432x288 with 1 Axes>"
      ]
     },
     "metadata": {
      "needs_background": "light"
     },
     "output_type": "display_data"
    }
   ],
   "source": [
    "MF = sci.odeint(FindK, F, t) ## flux vals already at steady state? use these to find k values.\n",
    "\n",
    "plt.plot(t, MF[:, 0], label = 'M1')\n",
    "plt.plot(t, MF[:, 1], label = 'M2')\n",
    "plt.plot(t, MF[:, 2], label = 'M5')\n",
    "plt.plot(t, MF[:, 3], label = 'M7')\n",
    "plt.legend()"
   ]
  }
 ],
 "metadata": {
  "kernelspec": {
   "display_name": "Python 3.9.12 ('base')",
   "language": "python",
   "name": "python3"
  },
  "language_info": {
   "codemirror_mode": {
    "name": "ipython",
    "version": 3
   },
   "file_extension": ".py",
   "mimetype": "text/x-python",
   "name": "python",
   "nbconvert_exporter": "python",
   "pygments_lexer": "ipython3",
   "version": "3.9.12"
  },
  "orig_nbformat": 4,
  "vscode": {
   "interpreter": {
    "hash": "d59e8c0466c18f6c9cf53c924d0708b8c2ee41d3ed7fd042783b0a0e895992fe"
   }
  }
 },
 "nbformat": 4,
 "nbformat_minor": 2
}
